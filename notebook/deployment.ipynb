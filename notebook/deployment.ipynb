{
 "cells": [
  {
   "cell_type": "code",
   "execution_count": 3,
   "metadata": {},
   "outputs": [
    {
     "name": "stdout",
     "output_type": "stream",
     "text": [
      "{'Request': [{'Pregnancies': 5, 'Glucose': 166, 'BloodPressure': 72, 'SkinThickness': 19, 'Insulin': 175, 'BMI': 25.8, 'DiabetesPedigreeFunction': 0.587, 'Age': 51}], 'Response': [1]}\n"
     ]
    }
   ],
   "source": [
    "import requests\n",
    "\n",
    "# Set url of the model that has been deployed\n",
    "url = \"http://127.0.0.1:8000/prediction\"\n",
    "\n",
    "# Define the data to be predicted\n",
    "payload = {\n",
    "  \"data\": [\n",
    "       {\n",
    "          'Pregnancies': 5,\n",
    "          'Glucose': 166,\n",
    "          'BloodPressure': 72,\n",
    "          'SkinThickness': 19,\n",
    "          'Insulin': 175,\n",
    "          'BMI': 25.8,\n",
    "          'DiabetesPedigreeFunction': 0.587,\n",
    "          'Age': 51\n",
    "        },\n",
    "  ]\n",
    "}\n",
    "\n",
    "# Send a POST request to the URL\n",
    "result = requests.post(url, json=payload)\n",
    "\n",
    "# Show the response\n",
    "print(result.json())"
   ]
  }
 ],
 "metadata": {
  "kernelspec": {
   "display_name": "Python 3",
   "language": "python",
   "name": "python3"
  },
  "language_info": {
   "codemirror_mode": {
    "name": "ipython",
    "version": 3
   },
   "file_extension": ".py",
   "mimetype": "text/x-python",
   "name": "python",
   "nbconvert_exporter": "python",
   "pygments_lexer": "ipython3",
   "version": "3.9.16"
  }
 },
 "nbformat": 4,
 "nbformat_minor": 2
}
